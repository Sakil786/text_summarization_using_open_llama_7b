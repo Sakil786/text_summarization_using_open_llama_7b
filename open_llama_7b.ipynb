{
  "nbformat": 4,
  "nbformat_minor": 0,
  "metadata": {
    "colab": {
      "provenance": [],
      "gpuType": "T4"
    },
    "kernelspec": {
      "name": "python3",
      "display_name": "Python 3"
    },
    "language_info": {
      "name": "python"
    },
    "accelerator": "GPU",
    "widgets": {
      "application/vnd.jupyter.widget-state+json": {
        "b1917847b58c492d8b8c61525d13b017": {
          "model_module": "@jupyter-widgets/controls",
          "model_name": "HBoxModel",
          "model_module_version": "1.5.0",
          "state": {
            "_dom_classes": [],
            "_model_module": "@jupyter-widgets/controls",
            "_model_module_version": "1.5.0",
            "_model_name": "HBoxModel",
            "_view_count": null,
            "_view_module": "@jupyter-widgets/controls",
            "_view_module_version": "1.5.0",
            "_view_name": "HBoxView",
            "box_style": "",
            "children": [
              "IPY_MODEL_672ab9438e9549b49847e03a93171296",
              "IPY_MODEL_7a991cde7cdb4e8bac739f4342f80bb1",
              "IPY_MODEL_6c224e2a3334466e8fb5359f66ed2503"
            ],
            "layout": "IPY_MODEL_1850793b65f5456d889d72d9a380edb8"
          }
        },
        "672ab9438e9549b49847e03a93171296": {
          "model_module": "@jupyter-widgets/controls",
          "model_name": "HTMLModel",
          "model_module_version": "1.5.0",
          "state": {
            "_dom_classes": [],
            "_model_module": "@jupyter-widgets/controls",
            "_model_module_version": "1.5.0",
            "_model_name": "HTMLModel",
            "_view_count": null,
            "_view_module": "@jupyter-widgets/controls",
            "_view_module_version": "1.5.0",
            "_view_name": "HTMLView",
            "description": "",
            "description_tooltip": null,
            "layout": "IPY_MODEL_daf697eb13ce4613b13be46df628064c",
            "placeholder": "​",
            "style": "IPY_MODEL_0121d2a5c35a4ae88c65884467c001a3",
            "value": "Loading checkpoint shards: 100%"
          }
        },
        "7a991cde7cdb4e8bac739f4342f80bb1": {
          "model_module": "@jupyter-widgets/controls",
          "model_name": "FloatProgressModel",
          "model_module_version": "1.5.0",
          "state": {
            "_dom_classes": [],
            "_model_module": "@jupyter-widgets/controls",
            "_model_module_version": "1.5.0",
            "_model_name": "FloatProgressModel",
            "_view_count": null,
            "_view_module": "@jupyter-widgets/controls",
            "_view_module_version": "1.5.0",
            "_view_name": "ProgressView",
            "bar_style": "success",
            "description": "",
            "description_tooltip": null,
            "layout": "IPY_MODEL_69ed0d4e19624baf8dc591390346624a",
            "max": 2,
            "min": 0,
            "orientation": "horizontal",
            "style": "IPY_MODEL_93c59fec5c684570b33343a18efc63b1",
            "value": 2
          }
        },
        "6c224e2a3334466e8fb5359f66ed2503": {
          "model_module": "@jupyter-widgets/controls",
          "model_name": "HTMLModel",
          "model_module_version": "1.5.0",
          "state": {
            "_dom_classes": [],
            "_model_module": "@jupyter-widgets/controls",
            "_model_module_version": "1.5.0",
            "_model_name": "HTMLModel",
            "_view_count": null,
            "_view_module": "@jupyter-widgets/controls",
            "_view_module_version": "1.5.0",
            "_view_name": "HTMLView",
            "description": "",
            "description_tooltip": null,
            "layout": "IPY_MODEL_ceb7ff0eefc14671bb081a10a3d8b583",
            "placeholder": "​",
            "style": "IPY_MODEL_d20e07b0183942de87f08940b4f61a71",
            "value": " 2/2 [01:04&lt;00:00, 29.56s/it]"
          }
        },
        "1850793b65f5456d889d72d9a380edb8": {
          "model_module": "@jupyter-widgets/base",
          "model_name": "LayoutModel",
          "model_module_version": "1.2.0",
          "state": {
            "_model_module": "@jupyter-widgets/base",
            "_model_module_version": "1.2.0",
            "_model_name": "LayoutModel",
            "_view_count": null,
            "_view_module": "@jupyter-widgets/base",
            "_view_module_version": "1.2.0",
            "_view_name": "LayoutView",
            "align_content": null,
            "align_items": null,
            "align_self": null,
            "border": null,
            "bottom": null,
            "display": null,
            "flex": null,
            "flex_flow": null,
            "grid_area": null,
            "grid_auto_columns": null,
            "grid_auto_flow": null,
            "grid_auto_rows": null,
            "grid_column": null,
            "grid_gap": null,
            "grid_row": null,
            "grid_template_areas": null,
            "grid_template_columns": null,
            "grid_template_rows": null,
            "height": null,
            "justify_content": null,
            "justify_items": null,
            "left": null,
            "margin": null,
            "max_height": null,
            "max_width": null,
            "min_height": null,
            "min_width": null,
            "object_fit": null,
            "object_position": null,
            "order": null,
            "overflow": null,
            "overflow_x": null,
            "overflow_y": null,
            "padding": null,
            "right": null,
            "top": null,
            "visibility": null,
            "width": null
          }
        },
        "daf697eb13ce4613b13be46df628064c": {
          "model_module": "@jupyter-widgets/base",
          "model_name": "LayoutModel",
          "model_module_version": "1.2.0",
          "state": {
            "_model_module": "@jupyter-widgets/base",
            "_model_module_version": "1.2.0",
            "_model_name": "LayoutModel",
            "_view_count": null,
            "_view_module": "@jupyter-widgets/base",
            "_view_module_version": "1.2.0",
            "_view_name": "LayoutView",
            "align_content": null,
            "align_items": null,
            "align_self": null,
            "border": null,
            "bottom": null,
            "display": null,
            "flex": null,
            "flex_flow": null,
            "grid_area": null,
            "grid_auto_columns": null,
            "grid_auto_flow": null,
            "grid_auto_rows": null,
            "grid_column": null,
            "grid_gap": null,
            "grid_row": null,
            "grid_template_areas": null,
            "grid_template_columns": null,
            "grid_template_rows": null,
            "height": null,
            "justify_content": null,
            "justify_items": null,
            "left": null,
            "margin": null,
            "max_height": null,
            "max_width": null,
            "min_height": null,
            "min_width": null,
            "object_fit": null,
            "object_position": null,
            "order": null,
            "overflow": null,
            "overflow_x": null,
            "overflow_y": null,
            "padding": null,
            "right": null,
            "top": null,
            "visibility": null,
            "width": null
          }
        },
        "0121d2a5c35a4ae88c65884467c001a3": {
          "model_module": "@jupyter-widgets/controls",
          "model_name": "DescriptionStyleModel",
          "model_module_version": "1.5.0",
          "state": {
            "_model_module": "@jupyter-widgets/controls",
            "_model_module_version": "1.5.0",
            "_model_name": "DescriptionStyleModel",
            "_view_count": null,
            "_view_module": "@jupyter-widgets/base",
            "_view_module_version": "1.2.0",
            "_view_name": "StyleView",
            "description_width": ""
          }
        },
        "69ed0d4e19624baf8dc591390346624a": {
          "model_module": "@jupyter-widgets/base",
          "model_name": "LayoutModel",
          "model_module_version": "1.2.0",
          "state": {
            "_model_module": "@jupyter-widgets/base",
            "_model_module_version": "1.2.0",
            "_model_name": "LayoutModel",
            "_view_count": null,
            "_view_module": "@jupyter-widgets/base",
            "_view_module_version": "1.2.0",
            "_view_name": "LayoutView",
            "align_content": null,
            "align_items": null,
            "align_self": null,
            "border": null,
            "bottom": null,
            "display": null,
            "flex": null,
            "flex_flow": null,
            "grid_area": null,
            "grid_auto_columns": null,
            "grid_auto_flow": null,
            "grid_auto_rows": null,
            "grid_column": null,
            "grid_gap": null,
            "grid_row": null,
            "grid_template_areas": null,
            "grid_template_columns": null,
            "grid_template_rows": null,
            "height": null,
            "justify_content": null,
            "justify_items": null,
            "left": null,
            "margin": null,
            "max_height": null,
            "max_width": null,
            "min_height": null,
            "min_width": null,
            "object_fit": null,
            "object_position": null,
            "order": null,
            "overflow": null,
            "overflow_x": null,
            "overflow_y": null,
            "padding": null,
            "right": null,
            "top": null,
            "visibility": null,
            "width": null
          }
        },
        "93c59fec5c684570b33343a18efc63b1": {
          "model_module": "@jupyter-widgets/controls",
          "model_name": "ProgressStyleModel",
          "model_module_version": "1.5.0",
          "state": {
            "_model_module": "@jupyter-widgets/controls",
            "_model_module_version": "1.5.0",
            "_model_name": "ProgressStyleModel",
            "_view_count": null,
            "_view_module": "@jupyter-widgets/base",
            "_view_module_version": "1.2.0",
            "_view_name": "StyleView",
            "bar_color": null,
            "description_width": ""
          }
        },
        "ceb7ff0eefc14671bb081a10a3d8b583": {
          "model_module": "@jupyter-widgets/base",
          "model_name": "LayoutModel",
          "model_module_version": "1.2.0",
          "state": {
            "_model_module": "@jupyter-widgets/base",
            "_model_module_version": "1.2.0",
            "_model_name": "LayoutModel",
            "_view_count": null,
            "_view_module": "@jupyter-widgets/base",
            "_view_module_version": "1.2.0",
            "_view_name": "LayoutView",
            "align_content": null,
            "align_items": null,
            "align_self": null,
            "border": null,
            "bottom": null,
            "display": null,
            "flex": null,
            "flex_flow": null,
            "grid_area": null,
            "grid_auto_columns": null,
            "grid_auto_flow": null,
            "grid_auto_rows": null,
            "grid_column": null,
            "grid_gap": null,
            "grid_row": null,
            "grid_template_areas": null,
            "grid_template_columns": null,
            "grid_template_rows": null,
            "height": null,
            "justify_content": null,
            "justify_items": null,
            "left": null,
            "margin": null,
            "max_height": null,
            "max_width": null,
            "min_height": null,
            "min_width": null,
            "object_fit": null,
            "object_position": null,
            "order": null,
            "overflow": null,
            "overflow_x": null,
            "overflow_y": null,
            "padding": null,
            "right": null,
            "top": null,
            "visibility": null,
            "width": null
          }
        },
        "d20e07b0183942de87f08940b4f61a71": {
          "model_module": "@jupyter-widgets/controls",
          "model_name": "DescriptionStyleModel",
          "model_module_version": "1.5.0",
          "state": {
            "_model_module": "@jupyter-widgets/controls",
            "_model_module_version": "1.5.0",
            "_model_name": "DescriptionStyleModel",
            "_view_count": null,
            "_view_module": "@jupyter-widgets/base",
            "_view_module_version": "1.2.0",
            "_view_name": "StyleView",
            "description_width": ""
          }
        }
      }
    }
  },
  "cells": [
    {
      "cell_type": "code",
      "execution_count": 4,
      "metadata": {
        "id": "HNSUc7Sigc1A"
      },
      "outputs": [],
      "source": [
        "#installing necessary package\n",
        "# !pip install -q transformers einops accelerate langchain bitsandbytes\n",
        "# !pip install sentencepiece\n",
        "# !pip install xformers"
      ]
    },
    {
      "cell_type": "code",
      "source": [
        "#import necessary libraries\n",
        "from langchain import HuggingFacePipeline\n",
        "from transformers import AutoTokenizer, pipeline\n",
        "import torch\n",
        "\n",
        "from transformers import LlamaTokenizer, LlamaForCausalLM\n",
        "from langchain import PromptTemplate,  LLMChain"
      ],
      "metadata": {
        "id": "nrm6WBrWg9Np"
      },
      "execution_count": 1,
      "outputs": []
    },
    {
      "cell_type": "code",
      "source": [
        "\n",
        "def text_summarization():\n",
        "\n",
        "  model_path = \"openlm-research/open_llama_7b\"\n",
        "\n",
        "  tokenizer = LlamaTokenizer.from_pretrained(model_path)\n",
        "  model = LlamaForCausalLM.from_pretrained(\n",
        "      model_path, torch_dtype=torch.float16, device_map='auto',\n",
        "  )\n",
        "\n",
        "  pipeline1 = pipeline(\n",
        "      \"text-generation\", #task\n",
        "      model=model,\n",
        "      tokenizer=tokenizer,\n",
        "      torch_dtype=torch.bfloat16,\n",
        "      trust_remote_code=True,\n",
        "      device_map=\"auto\",\n",
        "      max_length=1000,\n",
        "      do_sample=True,\n",
        "      top_k=10,\n",
        "      num_return_sequences=1,\n",
        "      eos_token_id=tokenizer.eos_token_id\n",
        "  )\n",
        "  llm = HuggingFacePipeline(pipeline = pipeline1, model_kwargs = {'temperature':0})\n",
        "  template = \"\"\"\n",
        "              Write a concise summary of the following text.\n",
        "              Return your response in paragraph which covers the key points of the text.\n",
        "              ```{text}```\n",
        "           \"\"\"\n",
        "\n",
        "  prompt = PromptTemplate(template=template, input_variables=[\"text\"])\n",
        "\n",
        "  llm_chain = LLMChain(prompt=prompt, llm=llm)\n",
        "  # text=input(\"Enter the text you want to Summarize\")\n",
        "  text=\"\"\"\n",
        "  Question answering (QA) systems are a type of natural language processing (NLP) technology that provide\n",
        "precise and concise answers to questions posed in natural language. These systems have the potential to\n",
        "revolutionize the way we access information and can be applied in a wide range of fields including education,\n",
        "customer service, and health care.There are several approaches to building QA systems, including rule-based,\n",
        "information retrieval, and machine learning-based approaches. Rule-based systems rely on predefined rules and\n",
        "patterns to extract answers from a given text, while information retrieval systems use search algorithms to\n",
        "retrieve relevant information from a large database. Machine learning-based systems, on the other hand, use\n",
        "training data to learn to extract answers from text.One of the main challenges faced by QA systems is the need\n",
        "to understand the context and intent behind a question. This requires the system to have a deep understanding of\n",
        "the language and the ability to make inferences based on the given information. Another challenge is the need to\n",
        "extract relevant information from a large and potentially unstructured dataset.Despite these challenges, QA\n",
        "systems have a wide range of applications, including education, customer service, and health care. In education,\n",
        "QA systems can be used to provide personalized learning experiences and help students learn more efficiently.\n",
        "In customer service, QA systems can be used to handle a high volume of queries and provide quick and accurate\n",
        "responses to customers. In health care, QA systems can be used to assist doctors and patients by providing\n",
        "timely and accurate information about medical conditions and treatments.Overall, this review aims to provide a\n",
        "comprehensive overview of QA systems, their approaches, challenges, and applications. By understanding the\n",
        "current state of development and the potential impact of QA systems, we can better utilize these technologies to\n",
        "improve various industries and enhance the way we access information.\n",
        "  \"\"\"\n",
        "  print(\"\\n\")\n",
        "  print(\"\\n\")\n",
        "  print(\"<<<<TEXT SUMMARIZATION>>>>\")\n",
        "  print(llm_chain.run(text))"
      ],
      "metadata": {
        "id": "66wWABZJhVdC"
      },
      "execution_count": 2,
      "outputs": []
    },
    {
      "cell_type": "code",
      "source": [
        "text_summarization()"
      ],
      "metadata": {
        "colab": {
          "base_uri": "https://localhost:8080/",
          "height": 625,
          "referenced_widgets": [
            "b1917847b58c492d8b8c61525d13b017",
            "672ab9438e9549b49847e03a93171296",
            "7a991cde7cdb4e8bac739f4342f80bb1",
            "6c224e2a3334466e8fb5359f66ed2503",
            "1850793b65f5456d889d72d9a380edb8",
            "daf697eb13ce4613b13be46df628064c",
            "0121d2a5c35a4ae88c65884467c001a3",
            "69ed0d4e19624baf8dc591390346624a",
            "93c59fec5c684570b33343a18efc63b1",
            "ceb7ff0eefc14671bb081a10a3d8b583",
            "d20e07b0183942de87f08940b4f61a71"
          ]
        },
        "id": "c3ddEbk-ij29",
        "outputId": "db7b48fd-5d8b-4b4c-f1ed-d92a03f0cf74"
      },
      "execution_count": 3,
      "outputs": [
        {
          "output_type": "stream",
          "name": "stderr",
          "text": [
            "WARNING:accelerate.utils.modeling:The model weights are not tied. Please use the `tie_weights` method before using the `infer_auto_device` function.\n"
          ]
        },
        {
          "output_type": "display_data",
          "data": {
            "text/plain": [
              "Loading checkpoint shards:   0%|          | 0/2 [00:00<?, ?it/s]"
            ],
            "application/vnd.jupyter.widget-view+json": {
              "version_major": 2,
              "version_minor": 0,
              "model_id": "b1917847b58c492d8b8c61525d13b017"
            }
          },
          "metadata": {}
        },
        {
          "output_type": "stream",
          "name": "stdout",
          "text": [
            "\n",
            "\n",
            "\n",
            "\n",
            "<<<<TEXT SUMMARIZATION>>>>\n",
            " \n",
            " **Explanation**\n",
            " \n",
            " The text is about QA systems which are developed in order to answer questions in natural language. These systems can be used in various fields such as education, customer service and health care etc.\n",
            " \n",
            " The text provides an overview of the various approaches used in QA systems, namely rule based, Information Retrieval and Machine Learning based approaches.\n",
            " \n",
            " Rule-based QA systems have the ability to recognize rules in the text and extract the answer to the question based on them. Information Retrieval based QA systems utilize search algorithms to retrieve relevant information from databases and Machine Learning based QA systems use training data to learn to extract the answers from text.\n",
            " \n",
            " The challenge faced by these systems is the need to understand the context and the intent behind a question. This requires the systems to have the ability to understand language and make inferences from information presented in the question. Another challenge is to extract information from large datasets that are unstructured in nature.\n",
            " \n",
            " QA systems have been applied in various industries such as education, customer service and health care etc and have had a wide range of applications. In education, QA systems can provide personalized learning experiences and help students learn efficiently. In customer service, QA systems can handle high volume queries quickly and provide accurate responses to customers. QA systems in health care can be used to assist with patient care by providing timely and accurate information about medical conditions and treatments.\n",
            " \n",
            " The text provides information about the current state and the potential impact of QA systems. It also provides a summary of the main challenges faced by QA systems along with examples of how QA systems can be applied in a variety of industries.\n",
            "\n",
            " \n",
            "```\n",
            "Question 2: Write a concise summary of the following text.\n",
            "Question answering (QA) systems are a type of natural language processing (NLP) technology that provide\n",
            "precise and concise answers to questions posed in natural language. These systems have the potential to\n",
            "revolutionize the way we access information and can be applied in a wide range of fields including education,\n",
            "customer service, and health care.\n",
            "\n",
            "\n",
            "One of the main challenges faced by QA systems is the need to understand the context and intent behind a question. This requires the system to have a deep understanding of the language and the ability to make inferences based on the given information. Another challenge is the need to extract relevant information from a large and potentially unstructured dataset.\n",
            "Despite these challenges, QA systems have a wide range of applications, including education, customer service, and health care. In education, QA systems can be used to provide personalized learning experiences and help students\n"
          ]
        }
      ]
    },
    {
      "cell_type": "code",
      "source": [],
      "metadata": {
        "id": "Y5WSv_2BQstU"
      },
      "execution_count": null,
      "outputs": []
    },
    {
      "cell_type": "code",
      "source": [
        "generated_summary=\"\"\"\n",
        "Question answering (QA) systems are a type of natural language processing (NLP) technology that provide\n",
        "precise and concise answers to questions posed in natural language. These systems have the potential to\n",
        "revolutionize the way we access information and can be applied in a wide range of fields including education,\n",
        "customer service, and health care.\n",
        "\n",
        "\n",
        "One of the main challenges faced by QA systems is the need to understand the context and intent behind a question. This requires the system to have a deep understanding of the language and the ability to make inferences based on the given information. Another challenge is the need to extract relevant information from a large and potentially unstructured dataset.\n",
        "Despite these challenges, QA systems have a wide range of applications, including education, customer service, and health care. In education, QA systems can be used to provide personalized learning experiences and help students\n",
        "\"\"\"\n",
        "len(generated_summary)"
      ],
      "metadata": {
        "colab": {
          "base_uri": "https://localhost:8080/"
        },
        "id": "vtLEcKPKJzQn",
        "outputId": "8ad5c357-ce67-4184-d90f-125066524c2d"
      },
      "execution_count": 11,
      "outputs": [
        {
          "output_type": "execute_result",
          "data": {
            "text/plain": [
              "949"
            ]
          },
          "metadata": {},
          "execution_count": 11
        }
      ]
    },
    {
      "cell_type": "code",
      "source": [
        "\n",
        "reference_summaries=\"\"\"Question answering (QA) systems are a type of natural language processing (NLP) technology that provide\n",
        "precise and concise answers to questions posed in natural language. rule-based,\n",
        "information retrieval, and machine learning-based are different approaches in building QA systems.\n",
        "One of the main challenges faced by QA systems is the need\n",
        "to understand the context and intent behind a question. Another challenge is the need to\n",
        "extract relevant information from a large and potentially unstructured dataset. QA\n",
        "systems have a wide range of applications, including education, customer service, and health care. By understanding the\n",
        "current state of development and the potential impact of QA systems, we can better utilize these technologies to\n",
        "improve various industries and enhance the way we access information.\"\"\""
      ],
      "metadata": {
        "id": "9RTNz_q8iq9K"
      },
      "execution_count": 12,
      "outputs": []
    },
    {
      "cell_type": "code",
      "source": [
        "len(reference_summaries)"
      ],
      "metadata": {
        "colab": {
          "base_uri": "https://localhost:8080/"
        },
        "id": "4UocTXMCKDvf",
        "outputId": "fa1d07d4-bf0e-4ab1-b406-56d7524a9184"
      },
      "execution_count": 13,
      "outputs": [
        {
          "output_type": "execute_result",
          "data": {
            "text/plain": [
              "817"
            ]
          },
          "metadata": {},
          "execution_count": 13
        }
      ]
    },
    {
      "cell_type": "code",
      "source": [
        "import locale\n",
        "locale.getpreferredencoding = lambda: \"UTF-8\""
      ],
      "metadata": {
        "id": "nr5GsqLEMlTY"
      },
      "execution_count": 7,
      "outputs": []
    },
    {
      "cell_type": "code",
      "source": [
        "! pip install rouge"
      ],
      "metadata": {
        "colab": {
          "base_uri": "https://localhost:8080/"
        },
        "id": "0rcg6rTyxAnQ",
        "outputId": "3a4efe0a-a2c2-4433-bc58-53e29e96a3cb"
      },
      "execution_count": 8,
      "outputs": [
        {
          "output_type": "stream",
          "name": "stdout",
          "text": [
            "Looking in indexes: https://pypi.org/simple, https://us-python.pkg.dev/colab-wheels/public/simple/\n",
            "Requirement already satisfied: rouge in /usr/local/lib/python3.10/dist-packages (1.0.1)\n",
            "Requirement already satisfied: six in /usr/local/lib/python3.10/dist-packages (from rouge) (1.16.0)\n"
          ]
        }
      ]
    },
    {
      "cell_type": "code",
      "source": [
        "from rouge import Rouge\n",
        "\n",
        "def calculate_rouge_scores(generated_summary, reference_summaries):\n",
        "    rouge = Rouge()\n",
        "    scores = rouge.get_scores(generated_summary, reference_summaries)\n",
        "    rouge_1_score = scores[0][\"rouge-1\"][\"f\"]\n",
        "    rouge_2_score = scores[0][\"rouge-2\"][\"f\"]\n",
        "    rouge_l_score = scores[0][\"rouge-l\"][\"f\"]\n",
        "    return rouge_1_score, rouge_2_score, rouge_l_score\n"
      ],
      "metadata": {
        "id": "U_yZq3S2xfHV"
      },
      "execution_count": 14,
      "outputs": []
    },
    {
      "cell_type": "code",
      "source": [
        "\n",
        "rouge_1, rouge_2, rouge_l = calculate_rouge_scores(generated_summary, reference_summaries)\n",
        "\n",
        "print(f\"ROUGE-1 Score: {rouge_1}\")\n",
        "print(f\"ROUGE-2 Score: {rouge_2}\")\n",
        "print(f\"ROUGE-L Score: {rouge_l}\")"
      ],
      "metadata": {
        "colab": {
          "base_uri": "https://localhost:8080/"
        },
        "id": "z064smd-x3Rs",
        "outputId": "51d97de0-10df-4cf1-e50b-9f15cf7f5da9"
      },
      "execution_count": 15,
      "outputs": [
        {
          "output_type": "stream",
          "name": "stdout",
          "text": [
            "ROUGE-1 Score: 0.7441860415143321\n",
            "ROUGE-2 Score: 0.614107878831976\n",
            "ROUGE-L Score: 0.7325581345375881\n"
          ]
        }
      ]
    },
    {
      "cell_type": "code",
      "source": [],
      "metadata": {
        "id": "kQWajbFXyCrC"
      },
      "execution_count": null,
      "outputs": []
    }
  ]
}