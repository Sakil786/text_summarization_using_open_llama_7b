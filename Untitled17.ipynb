{
  "nbformat": 4,
  "nbformat_minor": 0,
  "metadata": {
    "colab": {
      "provenance": []
    },
    "kernelspec": {
      "name": "python3",
      "display_name": "Python 3"
    },
    "language_info": {
      "name": "python"
    }
  },
  "cells": [
    {
      "cell_type": "code",
      "execution_count": null,
      "metadata": {
        "id": "dI8-ZTg5A_dW"
      },
      "outputs": [],
      "source": [
        "\n",
        "from rouge import Rouge\n",
        "\n",
        "def calculate_rouge(reference, summary):\n",
        "    rouge = Rouge()\n",
        "    scores = rouge.get_scores(summary, reference)\n",
        "    rouge_scores = scores[0]  # Extract the scores dictionary from the list\n",
        "    return rouge_scores['rouge-1']['f'], rouge_scores['rouge-2']['f'], rouge_scores['rouge-l']['f']"
      ]
    },
    {
      "cell_type": "code",
      "source": [
        "# Calculate ROUGE scores for each pair of summaries\n",
        "rouge_1_scores = []\n",
        "rouge_2_scores = []\n",
        "rouge_l_scores = []\n",
        "for ref, pred in zip(df['reference_summary'], df['predicted_summary']):\n",
        "    rouge_1, rouge_2, rouge_l = calculate_rouge(ref, pred)\n",
        "    rouge_1_scores.append(rouge_1)\n",
        "    rouge_2_scores.append(rouge_2)\n",
        "    rouge_l_scores.append(rouge_l)"
      ],
      "metadata": {
        "id": "8LYAdl30BCtK"
      },
      "execution_count": null,
      "outputs": []
    },
    {
      "cell_type": "code",
      "source": [
        "\n",
        "# Create dataframe with predicted summaries, reference summaries, and ROUGE scores\n",
        "df['rouge-1'] = rouge_1_scores\n",
        "df['rouge-2'] = rouge_2_scores\n",
        "df['rouge-l'] = rouge_l_scores\n"
      ],
      "metadata": {
        "id": "3CaDIirFBD15"
      },
      "execution_count": null,
      "outputs": []
    }
  ]
}